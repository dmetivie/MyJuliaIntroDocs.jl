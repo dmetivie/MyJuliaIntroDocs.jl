{
 "cells": [
  {
   "attachments": {},
   "cell_type": "markdown",
   "metadata": {},
   "source": [
    "# A simple example of multiple dispatch: animals"
   ]
  },
  {
   "cell_type": "markdown",
   "metadata": {},
   "source": [
    "From this very good blog post [First Impressions of Julia from an R User](https://mdneuzerling.com/post/first-impressions-of-julia-from-an-r-user/).\n",
    "\n",
    "See [here](https://erikexplores.substack.com/p/what-makes-julia-unique) for another reference and there for a [Pokemon TP](https://gdalle.github.io/JuliaComputationSolutions/hw1a_solutions.html) both on multiple dispatch."
   ]
  },
  {
   "cell_type": "code",
   "execution_count": 2,
   "metadata": {},
   "outputs": [],
   "source": [
    "abstract type Animal end"
   ]
  },
  {
   "cell_type": "code",
   "execution_count": 3,
   "metadata": {},
   "outputs": [],
   "source": [
    "struct Cat <: Animal\n",
    "    Name::String \n",
    "    Age::Int\n",
    "end\n",
    "\n",
    "struct Dog <: Animal\n",
    "    Name::String \n",
    "    Age::Int\n",
    "end"
   ]
  },
  {
   "cell_type": "code",
   "execution_count": 4,
   "metadata": {},
   "outputs": [
    {
     "data": {
      "text/plain": [
       "interaction (generic function with 1 method)"
      ]
     },
     "metadata": {},
     "output_type": "display_data"
    }
   ],
   "source": [
    "interaction(x::Cat, y::Cat) = \"meow\""
   ]
  },
  {
   "cell_type": "code",
   "execution_count": 5,
   "metadata": {},
   "outputs": [
    {
     "data": {
      "text/plain": [
       "interaction (generic function with 2 methods)"
      ]
     },
     "metadata": {},
     "output_type": "display_data"
    }
   ],
   "source": [
    "interaction(x::Dog, y::Dog) = \"sniff\""
   ]
  },
  {
   "cell_type": "code",
   "execution_count": 6,
   "metadata": {},
   "outputs": [
    {
     "data": {
      "text/plain": [
       "interaction (generic function with 3 methods)"
      ]
     },
     "metadata": {},
     "output_type": "display_data"
    }
   ],
   "source": [
    "interaction(x::Cat, y::Dog) = \"growl\""
   ]
  },
  {
   "cell_type": "code",
   "execution_count": 7,
   "metadata": {},
   "outputs": [
    {
     "data": {
      "text/plain": [
       "interaction (generic function with 4 methods)"
      ]
     },
     "metadata": {},
     "output_type": "display_data"
    }
   ],
   "source": [
    "interaction(x::Dog, y::Cat) = interaction(y, x)"
   ]
  },
  {
   "cell_type": "code",
   "execution_count": 8,
   "metadata": {},
   "outputs": [
    {
     "data": {
      "text/plain": [
       "Dog(\"Phoebe\", 1)"
      ]
     },
     "metadata": {},
     "output_type": "display_data"
    }
   ],
   "source": [
    "luna = Cat(\"Luna\", 1)\n",
    "pip = Cat(\"Pip\", 5)\n",
    "hudson = Dog(\"Hudson\", 4)\n",
    "phoebe = Dog(\"Phoebe\", 1)"
   ]
  },
  {
   "cell_type": "code",
   "execution_count": 17,
   "metadata": {},
   "outputs": [
    {
     "data": {
      "text/plain": [
       "\"meow\""
      ]
     },
     "metadata": {},
     "output_type": "display_data"
    }
   ],
   "source": [
    "interaction(luna, pip)"
   ]
  },
  {
   "cell_type": "code",
   "execution_count": 10,
   "metadata": {},
   "outputs": [
    {
     "data": {
      "text/plain": [
       "\"meow\""
      ]
     },
     "metadata": {},
     "output_type": "display_data"
    }
   ],
   "source": [
    "interaction(pip, luna)"
   ]
  },
  {
   "cell_type": "code",
   "execution_count": 11,
   "metadata": {},
   "outputs": [
    {
     "data": {
      "text/plain": [
       "\"sniff\""
      ]
     },
     "metadata": {},
     "output_type": "display_data"
    }
   ],
   "source": [
    "interaction(hudson, phoebe)"
   ]
  },
  {
   "attachments": {},
   "cell_type": "markdown",
   "metadata": {},
   "source": [
    "## Going up the type hierarchy"
   ]
  },
  {
   "cell_type": "code",
   "execution_count": 12,
   "metadata": {},
   "outputs": [],
   "source": [
    "struct Gazelle <: Animal\n",
    "    Name::String \n",
    "    Age::Int\n",
    "end"
   ]
  },
  {
   "cell_type": "code",
   "execution_count": 15,
   "metadata": {},
   "outputs": [],
   "source": [
    "bob = Gazelle(\"Bob\", 2);\n",
    "interaction(x::Animal, y::Animal) = \"flee\";"
   ]
  },
  {
   "cell_type": "markdown",
   "metadata": {},
   "source": [
    "This is where it would not work (easily) with classes!"
   ]
  },
  {
   "cell_type": "code",
   "execution_count": 16,
   "metadata": {},
   "outputs": [
    {
     "data": {
      "text/plain": [
       "\"flee\""
      ]
     },
     "metadata": {},
     "output_type": "display_data"
    }
   ],
   "source": [
    "interaction(hudson, bob)"
   ]
  },
  {
   "cell_type": "code",
   "execution_count": 18,
   "metadata": {},
   "outputs": [
    {
     "data": {
      "text/html": [
       "interaction(x::<b>Animal</b>, y::<b>Animal</b>) in Main at <a href=\"https://github.com/dmetivie/MyJuliaIntroDocs.jl/tree/b5b6d752333276beda172c84fbac905f2520f399//notebooks/notebook_2_multiple_dispach_on_animals.ipynb#L2\" target=\"_blank\">c:\\Users\\metivier\\.julia\\dev\\MyJuliaIntroDocs\\notebooks\\notebook_2_multiple_dispach_on_animals.ipynb:2</a>"
      ],
      "text/plain": [
       "interaction(\u001b[90mx\u001b[39m::\u001b[1mAnimal\u001b[22m, \u001b[90my\u001b[39m::\u001b[1mAnimal\u001b[22m)\n",
       "\u001b[90m     @\u001b[39m \u001b[90mMain\u001b[39m \u001b[90mc:\\Users\\metivier\\.julia\\dev\\MyJuliaIntroDocs\\notebooks\\\u001b[39m\u001b[90m\u001b[4mnotebook_2_multiple_dispach_on_animals.ipynb:2\u001b[24m\u001b[39m"
      ]
     },
     "metadata": {},
     "output_type": "display_data"
    }
   ],
   "source": [
    "@which interaction(hudson, bob)"
   ]
  },
  {
   "attachments": {},
   "cell_type": "markdown",
   "metadata": {},
   "source": [
    "# A useful example: One Hot Vector\n",
    "Vector of length $n$ with only one nonzero element.\n",
    "$(0,0,\\cdots, 1, \\cdots, 0,0)$\n",
    "Commonly used in Machine Learning"
   ]
  },
  {
   "cell_type": "code",
   "execution_count": 19,
   "metadata": {},
   "outputs": [],
   "source": [
    "using BenchmarkTools"
   ]
  },
  {
   "cell_type": "markdown",
   "metadata": {},
   "source": [
    "Overload the `Base` functions `size`, `getindex`, `*`"
   ]
  },
  {
   "cell_type": "code",
   "execution_count": 20,
   "metadata": {},
   "outputs": [],
   "source": [
    "import Base: size, getindex, *"
   ]
  },
  {
   "cell_type": "code",
   "execution_count": 21,
   "metadata": {},
   "outputs": [],
   "source": [
    "struct OneHotVector <: AbstractVector{Bool}\n",
    "    len::Int\n",
    "    ind::Int\n",
    "end"
   ]
  },
  {
   "cell_type": "markdown",
   "metadata": {},
   "source": [
    "`size` and `getindex` are all you need to define a vector object"
   ]
  },
  {
   "cell_type": "code",
   "execution_count": 22,
   "metadata": {},
   "outputs": [
    {
     "data": {
      "text/plain": [
       "size (generic function with 107 methods)"
      ]
     },
     "metadata": {},
     "output_type": "display_data"
    }
   ],
   "source": [
    "size(v::OneHotVector) = (v.len, )"
   ]
  },
  {
   "cell_type": "code",
   "execution_count": null,
   "metadata": {},
   "outputs": [],
   "source": [
    "v[i]"
   ]
  },
  {
   "cell_type": "code",
   "execution_count": 23,
   "metadata": {},
   "outputs": [
    {
     "data": {
      "text/plain": [
       "getindex (generic function with 242 methods)"
      ]
     },
     "metadata": {},
     "output_type": "display_data"
    }
   ],
   "source": [
    "getindex(v::OneHotVector, i::Integer) = i == v.ind ? 1 : 0"
   ]
  },
  {
   "cell_type": "markdown",
   "metadata": {},
   "source": [
    "Define a `Matrix` named `A` of `rand` of size $10^4\\times 10^4$"
   ]
  },
  {
   "cell_type": "code",
   "execution_count": 24,
   "metadata": {},
   "outputs": [
    {
     "data": {
      "text/plain": [
       "10000×10000 Matrix{Float64}:\n",
       " 0.00145008  0.517656   0.767162    …  0.933325  0.453687    0.947923\n",
       " 0.211618    0.855474   0.862975       0.44708   0.96233     0.004023\n",
       " 0.722016    0.725257   0.669479       0.857984  0.0952437   0.862741\n",
       " 0.815623    0.95356    0.857661       0.693511  0.180129    0.431569\n",
       " 0.473973    0.898031   0.521944       0.1522    0.325358    0.194817\n",
       " 0.0468049   0.111882   0.338052    …  0.538252  0.94439     0.250228\n",
       " 0.0324299   0.585657   0.340353       0.319624  0.972351    0.2127\n",
       " 0.658798    0.558114   0.156518       0.860972  0.538063    0.107582\n",
       " 0.812504    0.428799   0.942329       0.305194  0.931554    0.330553\n",
       " 0.938673    0.635845   0.969596       0.908641  0.870117    0.242617\n",
       " ⋮                                  ⋱                        \n",
       " 0.991921    0.337811   0.00132845     0.126648  0.734708    0.709654\n",
       " 0.743611    0.905238   0.651672       0.449379  0.871654    0.107305\n",
       " 0.971412    0.0639792  0.755933       0.976185  0.555195    0.850492\n",
       " 0.20833     0.800935   0.324892       0.549186  0.188635    0.324473\n",
       " 0.269354    0.101024   0.298728    …  0.92011   0.791775    0.391661\n",
       " 0.690781    0.903143   0.162866       0.207363  0.00254441  0.282906\n",
       " 0.813533    0.234421   0.734049       0.790089  0.561735    0.769198\n",
       " 0.280105    0.404473   0.249692       0.839482  0.886697    0.524853\n",
       " 0.592811    0.852806   0.00235929     0.102028  0.0380686   0.0326063"
      ]
     },
     "metadata": {},
     "output_type": "display_data"
    }
   ],
   "source": [
    "A = rand(10^4, 10^4)"
   ]
  },
  {
   "cell_type": "markdown",
   "metadata": {},
   "source": [
    "Define a `OneHotVector` named `v` of length $10^4$ with nonzero element at index $1000$"
   ]
  },
  {
   "cell_type": "code",
   "execution_count": 25,
   "metadata": {},
   "outputs": [
    {
     "data": {
      "text/plain": [
       "10000-element OneHotVector:\n",
       " 0\n",
       " 0\n",
       " 0\n",
       " 0\n",
       " 0\n",
       " 0\n",
       " 0\n",
       " 0\n",
       " 0\n",
       " 0\n",
       " ⋮\n",
       " 0\n",
       " 0\n",
       " 0\n",
       " 0\n",
       " 0\n",
       " 0\n",
       " 0\n",
       " 0\n",
       " 0"
      ]
     },
     "metadata": {},
     "output_type": "display_data"
    }
   ],
   "source": [
    "v = OneHotVector(10^4, 1000)"
   ]
  },
  {
   "cell_type": "code",
   "execution_count": 27,
   "metadata": {},
   "outputs": [
    {
     "name": "stdout",
     "output_type": "stream",
     "text": [
      "  56.732 ms (2 allocations: 78.17 KiB)\n"
     ]
    },
    {
     "data": {
      "text/plain": [
       "10000-element Vector{Float64}:\n",
       " 0.5190004388173197\n",
       " 0.29017011564835193\n",
       " 0.3320310275304874\n",
       " 0.5670331815135479\n",
       " 0.890303509210753\n",
       " 0.4958491878884065\n",
       " 0.7759339026071587\n",
       " 0.579148665949576\n",
       " 0.12463734804663706\n",
       " 0.7652552565477151\n",
       " ⋮\n",
       " 0.29291074248188653\n",
       " 0.9406622765677222\n",
       " 0.25612161438862424\n",
       " 0.2634541758539116\n",
       " 0.7783478542939336\n",
       " 0.7989130427791531\n",
       " 0.5537200837976327\n",
       " 0.2752659705775836\n",
       " 0.056296292271914794"
      ]
     },
     "metadata": {},
     "output_type": "display_data"
    }
   ],
   "source": [
    "@btime A*v"
   ]
  },
  {
   "cell_type": "code",
   "execution_count": 28,
   "metadata": {},
   "outputs": [
    {
     "data": {
      "text/plain": [
       "* (generic function with 313 methods)"
      ]
     },
     "metadata": {},
     "output_type": "display_data"
    }
   ],
   "source": [
    "*(a::AbstractMatrix,v::OneHotVector) = a[:, v.ind]"
   ]
  },
  {
   "cell_type": "code",
   "execution_count": 29,
   "metadata": {},
   "outputs": [
    {
     "name": "stdout",
     "output_type": "stream",
     "text": [
      "  5.520 μs (2 allocations: 78.17 KiB)\n"
     ]
    },
    {
     "data": {
      "text/plain": [
       "10000-element Vector{Float64}:\n",
       " 0.5190004388173197\n",
       " 0.29017011564835193\n",
       " 0.3320310275304874\n",
       " 0.5670331815135479\n",
       " 0.890303509210753\n",
       " 0.4958491878884065\n",
       " 0.7759339026071587\n",
       " 0.579148665949576\n",
       " 0.12463734804663706\n",
       " 0.7652552565477151\n",
       " ⋮\n",
       " 0.29291074248188653\n",
       " 0.9406622765677222\n",
       " 0.25612161438862424\n",
       " 0.2634541758539116\n",
       " 0.7783478542939336\n",
       " 0.7989130427791531\n",
       " 0.5537200837976327\n",
       " 0.2752659705775836\n",
       " 0.056296292271914794"
      ]
     },
     "metadata": {},
     "output_type": "display_data"
    }
   ],
   "source": [
    "@btime A*v"
   ]
  },
  {
   "cell_type": "code",
   "execution_count": 30,
   "metadata": {},
   "outputs": [
    {
     "data": {
      "text/html": [
       "*(a::<b>AbstractMatrix</b>, v::<b>OneHotVector</b>) in Main at <a href=\"https://github.com/dmetivie/MyJuliaIntroDocs.jl/tree/b5b6d752333276beda172c84fbac905f2520f399//notebooks/notebook_2_multiple_dispach_on_animals.ipynb#L1\" target=\"_blank\">c:\\Users\\metivier\\.julia\\dev\\MyJuliaIntroDocs\\notebooks\\notebook_2_multiple_dispach_on_animals.ipynb:1</a>"
      ],
      "text/plain": [
       "*(\u001b[90ma\u001b[39m::\u001b[1mAbstractMatrix\u001b[22m, \u001b[90mv\u001b[39m::\u001b[1mOneHotVector\u001b[22m)\n",
       "\u001b[90m     @\u001b[39m \u001b[90mMain\u001b[39m \u001b[90mc:\\Users\\metivier\\.julia\\dev\\MyJuliaIntroDocs\\notebooks\\\u001b[39m\u001b[90m\u001b[4mnotebook_2_multiple_dispach_on_animals.ipynb:1\u001b[24m\u001b[39m"
      ]
     },
     "metadata": {},
     "output_type": "display_data"
    }
   ],
   "source": [
    "@which A*v"
   ]
  },
  {
   "attachments": {},
   "cell_type": "markdown",
   "metadata": {},
   "source": []
  }
 ],
 "metadata": {
  "kernelspec": {
   "display_name": "Julia 1.9.4",
   "language": "julia",
   "name": "julia-1.9"
  },
  "language_info": {
   "file_extension": ".jl",
   "mimetype": "application/julia",
   "name": "julia",
   "version": "1.9.4"
  },
  "orig_nbformat": 4
 },
 "nbformat": 4,
 "nbformat_minor": 2
}
